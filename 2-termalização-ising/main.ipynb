{
  "cells": [
    {
      "cell_type": "code",
      "metadata": {
        "jukit_cell_id": "PTQnnGr45I"
      },
      "source": [
        "import numpy as np\n",
        "from numba import jit\n",
        "import matplotlib.pyplot as plt"
      ],
      "outputs": [],
      "execution_count": null
    },
    {
      "cell_type": "code",
      "metadata": {
        "jukit_cell_id": "abjOhjriCB"
      },
      "source": [
        "@jit(nopython=True)\n",
        "def vizinhos(N: int):\n",
        "    # Define a tabela de vizinhos\n",
        "    L = int(np.sqrt(N))\n",
        "    viz = np.zeros((N, 4), dtype=np.int16)\n",
        "    for k in range(N):\n",
        "        viz[k, 0] = k + 1\n",
        "        if (k + 1) % L == 0:\n",
        "            viz[k, 0] = k + 1 - L\n",
        "        viz[k, 1] = k + L\n",
        "        if k > (N - L - 1):\n",
        "            viz[k, 1] = k + L - N\n",
        "        viz[k, 2] = k - 1\n",
        "        if k % L == 0:\n",
        "            viz[k, 2] = k + L - 1\n",
        "        viz[k, 3] = k - L\n",
        "        if k < L:\n",
        "            viz[k, 3] = k + N - L\n",
        "    return viz"
      ],
      "outputs": [],
      "execution_count": null
    },
    {
      "cell_type": "code",
      "metadata": {
        "jukit_cell_id": "DNetz6EqYG"
      },
      "source": [
        "@jit(nopython=True)\n",
        "def algoritmo_de_metropolis(L: int, T: float, passos: int):\n",
        "    energia: np.ndarray = np.zeros(passos, dtype=np.int32)\n",
        "    magnetiza\u00e7\u00e3o: np.ndarray = np.zeros(passos, dtype=np.int32)\n",
        "\n",
        "    spins: np.ndarray = np.array([-1, 1], dtype=np.int8)\n",
        "\n",
        "    varia\u00e7\u00f5es_de_energia = np.array([8.0, 4.0, 0.0, -4.0, -8.0], dtype=np.float64)\n",
        "    expoentes = np.exp(varia\u00e7\u00f5es_de_energia * 1 / T)\n",
        "\n",
        "    N = L * L\n",
        "    S = np.random.choice(spins, N)\n",
        "\n",
        "    viz = vizinhos(N)\n",
        "\n",
        "    for i in range(passos):\n",
        "        for k in np.arange(N):\n",
        "            \u00edndice = int(S[k] * np.sum(S[viz[k]]) * 0.5 + 2)\n",
        "            if np.random.rand() < expoentes[\u00edndice]:\n",
        "                S[k] = -1 * S[k]\n",
        "        energia[i] = -np.sum(S * (S[viz[:, 0]] + S[viz[:, 1]]))\n",
        "        magnetiza\u00e7\u00e3o[i] = np.sum(S)\n",
        "\n",
        "    return energia, magnetiza\u00e7\u00e3o"
      ],
      "outputs": [],
      "execution_count": null
    },
    {
      "cell_type": "code",
      "metadata": {
        "jukit_cell_id": "HVkAb2VvkE"
      },
      "source": [
        "N = 0\n",
        "comprimento = 100\n",
        "temperatura = 3\n",
        "PASSOS_DE_MONTECARLO = 1000\n",
        "energias = np.zeros((N, PASSOS_DE_MONTECARLO))\n",
        "magnetiza\u00e7\u00f5es = np.zeros((N, PASSOS_DE_MONTECARLO))\n",
        "\n",
        "for i in range(N):\n",
        "    energias[i], magnetiza\u00e7\u00f5es[i] = algoritmo_de_metropolis(\n",
        "        comprimento, temperatura, PASSOS_DE_MONTECARLO\n",
        "    )\n",
        "\n",
        "for e in energias:\n",
        "    plt.title(f\"Rede: {comprimento} Temperatura: {temperatura}\")\n",
        "    plt.xlabel(\"N\u00famero de passos de Monte Carlo\")\n",
        "    plt.ylabel(\"Energia\")\n",
        "    plt.plot(e)\n",
        "\n",
        "# plt.savefig(f\"energias{comprimento}T{temperatura}.png\")\n",
        "# plt.show()\n",
        "\n",
        "for m in magnetiza\u00e7\u00f5es:\n",
        "    plt.title(f\"Rede: {comprimento} Temperatura: {temperatura}\")\n",
        "    plt.xlabel(\"N\u00famero de passos de Monte Carlo\")\n",
        "    plt.ylabel(\"Magnetiza\u00e7\u00e3o\")\n",
        "    plt.plot(m)\n",
        "\n",
        "# plt.savefig(f\"magnetos{comprimento}T{temperatura}.png\")\n",
        "# plt.show()"
      ],
      "outputs": [],
      "execution_count": null
    },
    {
      "cell_type": "markdown",
      "metadata": {
        "jukit_cell_id": "2yjTchnNOK"
      },
      "source": [
        "# An\u00e1lise\n",
        "\n",
        "## Gera\u00e7\u00e3o das Inst\u00e2ncias\n",
        "\n",
        "Foram fixadas 10 repeti\u00e7\u00f5es em todos os experimentos gerados (N=10). Inicialmente, o comprimento da rede foi fixado, C=32 e variou-se a temperatura: 0.4, 1.2, 2.1, 3. Depois, a temperatura foi fixada, T=1.7 e o comprimento da rede foi modificado: 24, 48, 72, 100. Tamb\u00e9m foi gerado um caso \"m\u00ednimo\", que combina o m\u00ednimo de comprimento (C=24) e temperatura (T=0.4) propostos, assim como um caso \"m\u00e1ximo\", que combina o comprimento m\u00e1ximo da rede (C=100) e temperatura (T=3).\n",
        "\n",
        "## Energia\n",
        "\n",
        "### Varia\u00e7\u00e3o de Temperatura\n",
        "\n",
        "![E32T0.4](img/energias32T0.4.png)  \n",
        "![E32T1.2](img/energias32T1.2.png)  \n",
        "![E32T2](img/energias32T2.png)  \n",
        "![E32T3](img/energias32T3.png)  \n",
        "![E32T3x](img/energias32T3++.png)  \n",
        "\n",
        "O aumento de temperatura torna a converg\u00eancia muito mais lenta. Quando a temperatura \u00e9 muito baixa, \u00e9 poss\u00edvel que a energia converga para um valor mais baixo. Tentou-se fazer mais passos de Monte Carlo para averiguar se a converg\u00eancia estava pr\u00f3xima, mas n\u00e3o houve diferen\u00e7a em rela\u00e7\u00e3o \u00e0 diverg\u00eancia entre 1000 e 2000 passos.\n",
        "\n",
        "### Varia\u00e7\u00e3o de Comprimento\n",
        "\n",
        "![E24T1.7](img/energias24T1.7.png)  \n",
        "![E48T1.7](img/energias48T1.7.png)  \n",
        "![E72T1.7](img/energias72T1.7.png)  \n",
        "![E100T1.7](img/energias100T1.7.png)  \n",
        "\n",
        "O tamanho da rede n\u00e3o possui tanta influ\u00eancia como a temperatura, na converg\u00eancia. E energia total do sistema diminui conforme se aumenta o tamanho, o que faz parecer que a varia\u00e7\u00e3o entre os picos e vales pr\u00f3ximos da converg\u00eancia \u00e9 menor (eu diria que parece ser aproximadamente a mesma, mas n\u00e3o calculei isso). N\u00e3o \u00e9 poss\u00edvel afirmar se \u00e9 mais comum que a converg\u00eancia n\u00e3o ocorra com o aumento do tamanho da rede, com base nas imagens. Apesar de ser poss\u00edvel existir um vi\u00e9s.\n",
        "\n",
        "\n",
        "### M\u00ednimo e M\u00e1ximo\n",
        "\n",
        "![E24T0.4](img/energias24T0.4.png)  \n",
        "![E100T3](img/energias100T3.png)  \n",
        "\n",
        "Analisando os casos extremos, e com base nas an\u00e1lises anteriores, \u00e9 poss\u00edvel supor que o aumento da temperatura \u00e9 o principal fator que contribui para a n\u00e3o converg\u00eancia da energia.\n",
        "\n",
        "## Magnetiza\u00e7\u00e3o\n",
        "\n",
        "### Varia\u00e7\u00e3o de Temperatura\n",
        "\n",
        "![M32T0.4](img/magnetos32T0.4.png)  \n",
        "![M32T1.2](img/magnetos32T1.2.png)  \n",
        "![M32T2](img/magnetos32T2.png)  \n",
        "![M32T3](img/magnetos32T3.png)  \n",
        "![M32T3x](img/magnetos32T3++.png)  \n",
        "\n",
        "Para a temperatura mais baixa, 3 inst\u00e2ncias n\u00e3o convergiram, ficaram repetindo em padr\u00f5es. Com o aumento da temperatura (T=2), houve uma tend\u00eancia maior a convergir, mas com um aumento ainda maior (T=3), o gr\u00e1fico voltou a ficar uma completa bagun\u00e7a. Tal como para a energia, um aumento do n\u00famero de passos de Monte Carlo n\u00e3o ajudou.\n",
        "\n",
        "### Varia\u00e7\u00e3o de Comprimento\n",
        "\n",
        "![M24T1.7](img/magnetos24T1.7.png)  \n",
        "![M48T1.7](img/magnetos48T1.7.png)  \n",
        "![M72T1.7](img/magnetos72T1.7.png)  \n",
        "![M100T1.7](img/magnetos100T1.7.png)  \n",
        "\n",
        "Como no caso da energia, o aumento da rede aumentou os valores para os quais a magnetiza\u00e7\u00e3o converge e, tamb\u00e9m similarmente ao caso energ\u00e9tico, n\u00e3o \u00e9 poss\u00edvel afirmar que um aumento do tamanho da rede dificulta a converg\u00eancia.\n",
        "\n",
        "### M\u00ednimo e M\u00e1ximo\n",
        "\n",
        "![M24T0.4](img/magnetos24T0.4.png)  \n",
        "![M100T3](img/magnetos100T3.png)  \n",
        "\n",
        "Novamente, o caso \"exagerado\" ficou n\u00e3o intelig\u00edvel. N\u00e3o houve converg\u00eancia em nenhuma inst\u00e2ncia. J\u00e1 o caso \"b\u00e1sico\" teve algumas inst\u00e2ncias que tamb\u00e9m n\u00e3o convergiram, mas no geral \u00e9 bem comportado, convergindo rapidamente."
      ]
    }
  ],
  "metadata": {
    "anaconda-cloud": {},
    "kernelspec": {
      "display_name": "python",
      "language": "python",
      "name": "python3"
    }
  },
  "nbformat": 4,
  "nbformat_minor": 4
}
