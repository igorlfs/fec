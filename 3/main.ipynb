{
  "cells": [
    {
      "cell_type": "markdown",
      "metadata": {
        "jukit_cell_id": "hhAnwT2oUw"
      },
      "source": [
        "# Exerc\u00edcio avaliativo 1\n",
        "## Introdu\u00e7\u00e3o a F\u00edsica Estat\u00edstica e Computacional\n",
        "\n",
        "Lu\u00eds Felipe Ramos Ferreira - 2019022553\n",
        "\n",
        "Igor Lacerda Faria da Silva - 2020041973\n",
        "\n",
        "Gabriel Rocha Martins - 2019006639"
      ]
    },
    {
      "cell_type": "code",
      "metadata": {
        "jukit_cell_id": "fxCq8VVq5E"
      },
      "source": [
        "import numpy as np\n",
        "import matplotlib.pyplot as plt"
      ],
      "outputs": [],
      "execution_count": null
    },
    {
      "cell_type": "code",
      "metadata": {
        "jukit_cell_id": "uB0SICV32l"
      },
      "source": [
        "from typing import Callable"
      ],
      "outputs": [],
      "execution_count": null
    },
    {
      "cell_type": "code",
      "metadata": {
        "jukit_cell_id": "IUaidL4GFq"
      },
      "source": [
        "Y_MAX_1 = 1\n",
        "INF_1 = 0\n",
        "SUP_1 = 1\n",
        "SIZE_1 = 1000\n",
        "ITERATIONS_PLOT = 1000\n",
        "SIZES = [100, 1000, 10000]"
      ],
      "outputs": [],
      "execution_count": null
    },
    {
      "cell_type": "code",
      "metadata": {
        "jukit_cell_id": "YIKXtt19iS"
      },
      "source": [
        "x = np.linspace(0, 1, num=500)\n",
        "y = 1 - x**2\n",
        "\n",
        "plt.plot(x, y)\n",
        "plt.show()"
      ],
      "outputs": [],
      "execution_count": null
    },
    {
      "cell_type": "code",
      "metadata": {
        "jukit_cell_id": "EP2n26YOmI"
      },
      "source": [
        "def funct_1(x: float) -> float:\n",
        "    return 1 - x**2"
      ],
      "outputs": [],
      "execution_count": null
    },
    {
      "cell_type": "code",
      "metadata": {
        "jukit_cell_id": "W6P36uSpVa"
      },
      "source": [
        "def first_method(inf: float, sup: float, funct, size: int, y_max: int):\n",
        "    inside = 0\n",
        "    for i in range(size):\n",
        "        x = np.random.uniform(inf, sup, 1)\n",
        "        y = np.random.uniform(0, y_max, 1)\n",
        "        expected_y = funct(x)\n",
        "        if expected_y > y:\n",
        "            inside += 1\n",
        "\n",
        "    return inside / size * y_max * (sup - inf)"
      ],
      "outputs": [],
      "execution_count": null
    },
    {
      "cell_type": "code",
      "metadata": {
        "jukit_cell_id": "hIOA3Kje1S"
      },
      "source": [
        "def second_method(inf: float, sup: float, funct, size: int):\n",
        "    mutiplier = (sup - inf) / size\n",
        "    x = np.random.uniform(inf, sup, size)\n",
        "    x = funct(x)\n",
        "    return mutiplier * np.sum(x)"
      ],
      "outputs": [],
      "execution_count": null
    },
    {
      "cell_type": "code",
      "metadata": {
        "jukit_cell_id": "tob9o6ohhg"
      },
      "source": [
        "def plot_hist_iterate_method(\n",
        "    iterations: int, inf: float, sup: float, funct, size: int, y\n",
        "):\n",
        "    data = np.zeros(iterations)\n",
        "    for i in range(iterations):\n",
        "        data[i] = choose_method(inf, sup, funct, size, y)\n",
        "    plt.hist(data)"
      ],
      "outputs": [],
      "execution_count": null
    },
    {
      "cell_type": "code",
      "metadata": {
        "jukit_cell_id": "aeI8BzcCf5"
      },
      "source": [
        "def choose_method(inf: float, sup: float, funct, size: int, y):\n",
        "    if y is not None:\n",
        "        return first_method(inf, sup, funct, size, y)\n",
        "    else:\n",
        "        return second_method(inf, sup, funct, size)"
      ],
      "outputs": [],
      "execution_count": null
    },
    {
      "cell_type": "code",
      "metadata": {
        "jukit_cell_id": "oQYU2M50WQ"
      },
      "source": [
        "plot_hist_iterate_method(ITERATIONS_PLOT, INF_1, SUP_1, funct_1, SIZE_1, None)"
      ],
      "outputs": [],
      "execution_count": null
    },
    {
      "cell_type": "code",
      "metadata": {
        "jukit_cell_id": "iJsXvfyynG"
      },
      "source": [
        "for i in SIZES:\n",
        "    plot_hist_iterate_method(ITERATIONS_PLOT, INF_1, SUP_1, funct_1, i, Y_MAX_1)\n",
        "    plot_hist_iterate_method(ITERATIONS_PLOT, INF_1, SUP_1, funct_1, i, None)\n",
        "    plt.show()"
      ],
      "outputs": [],
      "execution_count": null
    },
    {
      "cell_type": "code",
      "metadata": {
        "jukit_cell_id": "N6ZllCxLtl"
      },
      "source": [
        "INF_2 = 0\n",
        "SUP_2 = 1\n",
        "Y_MAX_2 = 3"
      ],
      "outputs": [],
      "execution_count": null
    },
    {
      "cell_type": "code",
      "metadata": {
        "jukit_cell_id": "kd3wtOCzpX"
      },
      "source": [
        "def plot_2():\n",
        "    x = np.linspace(0, 1, 100)\n",
        "    y = np.e**x\n",
        "    plt.plot(x, y)"
      ],
      "outputs": [],
      "execution_count": null
    },
    {
      "cell_type": "code",
      "metadata": {
        "jukit_cell_id": "WoeccuvDbf"
      },
      "source": [
        "def funct_2(x: float) -> float:\n",
        "    return np.e**x"
      ],
      "outputs": [],
      "execution_count": null
    },
    {
      "cell_type": "code",
      "metadata": {
        "jukit_cell_id": "bkc3zNKBGb"
      },
      "source": [
        "plot_hist_iterate_method(ITERATIONS_PLOT, INF_2, SUP_2, funct_2, 1000, Y_MAX_2)"
      ],
      "outputs": [],
      "execution_count": null
    },
    {
      "cell_type": "code",
      "metadata": {
        "jukit_cell_id": "xltxGYe6q0"
      },
      "source": [
        "for i in SIZES:\n",
        "    plot_hist_iterate_method(ITERATIONS_PLOT, INF_2, SUP_2, funct_2, i, Y_MAX_2)\n",
        "    plot_hist_iterate_method(ITERATIONS_PLOT, INF_2, SUP_2, funct_2, i, None)\n",
        "    plt.show()"
      ],
      "outputs": [],
      "execution_count": null
    },
    {
      "cell_type": "code",
      "metadata": {
        "jukit_cell_id": "nNkIFdjELH"
      },
      "source": [
        "INF_3 = 0\n",
        "SUP_3 = np.pi\n",
        "Y_MAX_3 = 1"
      ],
      "outputs": [],
      "execution_count": null
    },
    {
      "cell_type": "code",
      "metadata": {
        "jukit_cell_id": "tmO3Tr9UQi"
      },
      "source": [
        "def plot_3():\n",
        "    x = np.linspace(INF_3, SUP_3, 100)\n",
        "    y = np.sin(x) ** 2\n",
        "    plt.title(\"Fun\u00e7\u00e3o 3 - $\\sin(x)^2\")\n",
        "    plt.plot(x, y)\n",
        "\n",
        "\n",
        "plot_3()"
      ],
      "outputs": [],
      "execution_count": null
    },
    {
      "cell_type": "code",
      "metadata": {
        "jukit_cell_id": "mzivS3wjH5"
      },
      "source": [
        "def funct_3(x: float) -> float:\n",
        "    return np.sin(x) ** 2"
      ],
      "outputs": [],
      "execution_count": null
    },
    {
      "cell_type": "code",
      "metadata": {
        "jukit_cell_id": "0JgqBkv03n"
      },
      "source": [
        "# plot_hist_iterate_method(ITERATIONS_PLOT, INF_3, SUP_3, funct_3, 100, Y_MAX_3)"
      ],
      "outputs": [],
      "execution_count": null
    },
    {
      "cell_type": "markdown",
      "metadata": {
        "jukit_cell_id": "ndMEd2YPDo"
      },
      "source": [
        "# Fun\u00e7\u00e3o 3"
      ]
    },
    {
      "cell_type": "code",
      "metadata": {
        "jukit_cell_id": "KFDFTBySNV"
      },
      "source": [
        "for i in SIZES:\n",
        "    plot_hist_iterate_method(ITERATIONS_PLOT, INF_3, SUP_3, funct_3, i, Y_MAX_3)\n",
        "    plot_hist_iterate_method(ITERATIONS_PLOT, INF_3, SUP_3, funct_3, i, None)\n",
        "    plt.show()"
      ],
      "outputs": [],
      "execution_count": null
    },
    {
      "cell_type": "markdown",
      "metadata": {
        "jukit_cell_id": "ehEZ9MbGL0"
      },
      "source": [
        "Em primeiro lugar, como esperado pelo Teorema do Limite Central, a distribui\u00e7\u00e3o\n",
        "dos valores gerados nos histogramas se aproxima de uma distribui\u00e7\u00e3o normal,\n",
        "com a m\u00e9dia muito pr\u00f3xima do valor anal\u00edtico. Al\u00e9m disso, em todos os casos, o\n",
        "m\u00e9todo 2 apresentou um conjunto de resultados cujos valores possuem um desvio\n",
        "padr\u00e3o menor do que os gerados pelo m\u00e9todo 1, o que nos leva a inferir que ele\n",
        "teve um desempenho mais promissor na estimativa das integrais. Entretanto,\n",
        "devemos tentar entender o porque disso.\n",
        "\n",
        "As fun\u00e7\u00f5es testadas com o m\u00e9todo 1, de amostragem de pontos abaixo da curva,\n",
        "possuem \"uma camada de aleatoriedade maior\" do que as testadas com o m\u00e9todo 2,\n",
        "uma vez que devemos gerar pontos aleat\u00f3rios, sendo que estes possuem\n",
        "coordenadas x e y. O m\u00e9todo de Monte Carlo, utilizando o valor m\u00e9dio, seleciona\n",
        "aleatoriamente apenas o valor de x, tornando sua distribui\u00e7\u00e3o de valores menos\n",
        "incerta. Assim, o desvio padr\u00e3o do segundo m\u00e9todo se mostra menor. "
      ]
    },
    {
      "cell_type": "code",
      "metadata": {
        "jukit_cell_id": "7FAEGObrRw"
      },
      "source": [
        "def calculo_erro(values, mean, N):\n",
        "    variancia = np.square(values - mean).mean()\n",
        "    desvio = np.sqrt(variancia)\n",
        "    return desvio / np.sqrt(N)"
      ],
      "outputs": [],
      "execution_count": null
    },
    {
      "cell_type": "markdown",
      "metadata": {
        "jukit_cell_id": "Ddlk1fCE08"
      },
      "source": [
        "# Exerc\u00edcio 4"
      ]
    },
    {
      "cell_type": "markdown",
      "metadata": {
        "jukit_cell_id": "jGY4loShRJ"
      },
      "source": [
        "Neste exerc\u00edcio utilizaremos o m\u00e9todo 2 de Monte Carlo para aproximar o valor\n",
        "de um integral em 9 dimens\u00f5es"
      ]
    },
    {
      "cell_type": "markdown",
      "metadata": {
        "jukit_cell_id": "PmuoidDmAk"
      },
      "source": [
        "Criando fun\u00e7\u00e3o:"
      ]
    },
    {
      "cell_type": "code",
      "metadata": {
        "jukit_cell_id": "89syOrRWv3"
      },
      "source": [
        "def funct4(x: list):\n",
        "    return 1 / ((x[0] + x[1]) * x[2] + (x[3] + x[4]) * x[5] + (x[6] + x[7]) * x[8])"
      ],
      "outputs": [],
      "execution_count": null
    },
    {
      "cell_type": "markdown",
      "metadata": {
        "jukit_cell_id": "qXPSrvmMFW"
      },
      "source": [
        "Criando fun\u00e7ao que generaliza a aplica\u00e7ao do m\u00e9todo 2 ( MonteCarlo ) para esse caso"
      ]
    },
    {
      "cell_type": "code",
      "metadata": {
        "jukit_cell_id": "apwEs1zQik"
      },
      "source": [
        "def MonteCarlo_9d(N, funcao: Callable):\n",
        "    acumulador = 0\n",
        "    for i in range(N):\n",
        "        acumulador = acumulador + funcao(np.random.uniform(0, 1, 9))\n",
        "    return acumulador / N"
      ],
      "outputs": [],
      "execution_count": null
    },
    {
      "cell_type": "markdown",
      "metadata": {
        "jukit_cell_id": "XnZ4LSeipw"
      },
      "source": [
        "Usando fun\u00e7ao para criar 1000 amostras com N=100 e aproximar o valor dessa integral"
      ]
    },
    {
      "cell_type": "code",
      "metadata": {
        "jukit_cell_id": "WFnFrNdAoU"
      },
      "source": [
        "ITERATIONS_4 = 1000"
      ],
      "outputs": [],
      "execution_count": null
    },
    {
      "cell_type": "code",
      "metadata": {
        "jukit_cell_id": "eJjvmq6Vtn"
      },
      "source": [
        "def carlao(size: float):\n",
        "    amostra = np.zeros(ITERATIONS_4)\n",
        "    for i in range(ITERATIONS_4):\n",
        "        amostra[i] = MonteCarlo_9d(size, funct4)\n",
        "    return amostra.mean(), amostra"
      ],
      "outputs": [],
      "execution_count": null
    },
    {
      "cell_type": "code",
      "metadata": {
        "jukit_cell_id": "EucJAaK1yb"
      },
      "source": [
        "media_1, amostra_1 = carlao(10**2)"
      ],
      "outputs": [],
      "execution_count": null
    },
    {
      "cell_type": "code",
      "metadata": {
        "jukit_cell_id": "oTn4pzzZK7"
      },
      "source": [
        "calculo_erro(amostra_1, media_1, 10**2)"
      ],
      "outputs": [],
      "execution_count": null
    },
    {
      "cell_type": "code",
      "metadata": {
        "jukit_cell_id": "P8z3f8G7W8"
      },
      "source": [
        "plt.hist(amostra_1)"
      ],
      "outputs": [],
      "execution_count": null
    },
    {
      "cell_type": "code",
      "metadata": {
        "jukit_cell_id": "RcDGk5WzrH"
      },
      "source": [
        "media_2, amostra_2 = carlao(10**3)"
      ],
      "outputs": [],
      "execution_count": null
    },
    {
      "cell_type": "code",
      "metadata": {
        "jukit_cell_id": "0URzhDm8jv"
      },
      "source": [
        "calculo_erro(amostra_2, media_2, 10**2)"
      ],
      "outputs": [],
      "execution_count": null
    },
    {
      "cell_type": "code",
      "metadata": {
        "jukit_cell_id": "PKJB5Wngn3"
      },
      "source": [
        "plt.hist(amostra_2)"
      ],
      "outputs": [],
      "execution_count": null
    },
    {
      "cell_type": "code",
      "metadata": {
        "jukit_cell_id": "T6YsRxWzds"
      },
      "source": [
        "media_3, amostra_3 = carlao(10**4)"
      ],
      "outputs": [],
      "execution_count": null
    },
    {
      "cell_type": "code",
      "metadata": {
        "jukit_cell_id": "lvloOZ0y3Q"
      },
      "source": [
        "calculo_erro(amostra_3, media_3, 10**2)"
      ],
      "outputs": [],
      "execution_count": null
    },
    {
      "cell_type": "code",
      "metadata": {
        "jukit_cell_id": "UH8ZIHamU8"
      },
      "source": [
        "plt.hist(amostra_3)"
      ],
      "outputs": [],
      "execution_count": null
    },
    {
      "cell_type": "code",
      "metadata": {
        "jukit_cell_id": "ZyQePKSO1g"
      },
      "source": [
        "# media_4, amostra_4 = carlao(10**5)"
      ],
      "outputs": [],
      "execution_count": null
    },
    {
      "cell_type": "code",
      "metadata": {
        "jukit_cell_id": "4xMi6H3WEH"
      },
      "source": [
        "# calculo_erro(amostra_4, media_4, 10)"
      ],
      "outputs": [],
      "execution_count": null
    },
    {
      "cell_type": "code",
      "metadata": {
        "jukit_cell_id": "KsSdyyIR9q"
      },
      "source": [
        "# plt.hist(amostra_4)"
      ],
      "outputs": [],
      "execution_count": null
    }
  ],
  "metadata": {
    "anaconda-cloud": {},
    "kernelspec": {
      "display_name": "python",
      "language": "python",
      "name": "python3"
    }
  },
  "nbformat": 4,
  "nbformat_minor": 4
}