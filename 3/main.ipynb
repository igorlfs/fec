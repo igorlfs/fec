{
  "cells": [
    {
      "cell_type": "code",
      "metadata": {
        "jukit_cell_id": "ZYAk6vJeSH"
      },
      "source": [
        "# pyright: reportUnusedExpression=false"
      ],
      "outputs": [],
      "execution_count": null
    },
    {
      "cell_type": "markdown",
      "metadata": {
        "jukit_cell_id": "9mXIl9nkXy"
      },
      "source": [
        "# Exerc\u00edcio avaliativo 1\n",
        "## Introdu\u00e7\u00e3o a F\u00edsica Estat\u00edstica e Computacional\n",
        "\n",
        "Lu\u00eds Felipe Ramos Ferreira - 2019022553\n",
        "\n",
        "Igor Lacerda Faria da Silva - 2020041973\n",
        "\n",
        "Gabriel Rocha Martins - 2019006639"
      ]
    },
    {
      "cell_type": "code",
      "metadata": {
        "jukit_cell_id": "iRL5gMsstH"
      },
      "source": [
        "import numpy as np\n",
        "import matplotlib.pyplot as plt"
      ],
      "outputs": [],
      "execution_count": null
    },
    {
      "cell_type": "code",
      "metadata": {
        "jukit_cell_id": "PbFbtyTq7I"
      },
      "source": [
        "from typing import Callable"
      ],
      "outputs": [],
      "execution_count": null
    },
    {
      "cell_type": "code",
      "metadata": {
        "jukit_cell_id": "xN6impb1pJ"
      },
      "source": [
        "ITERATIONS = 1000\n",
        "SIZES = [10**2, 10**3, 10**4]\n",
        "errors: list[float] = []"
      ],
      "outputs": [],
      "execution_count": null
    },
    {
      "cell_type": "code",
      "metadata": {
        "jukit_cell_id": "HsYJ16xuwZ"
      },
      "source": [
        "def calculo_erro(values: np.ndarray, mean: float) -> float:\n",
        "    variancia = np.square(values - mean).mean()\n",
        "    desvio = np.sqrt(variancia)\n",
        "    return desvio / np.sqrt(values.size)"
      ],
      "outputs": [],
      "execution_count": null
    },
    {
      "cell_type": "code",
      "metadata": {
        "jukit_cell_id": "h7MZ8QtJvI"
      },
      "source": [
        "def first_method(inf: float, sup: float, funct, size: int, y_max: int):\n",
        "    inside = 0\n",
        "    for _ in range(size):\n",
        "        x = np.random.uniform(inf, sup, 1)\n",
        "        y = np.random.uniform(0, y_max, 1)\n",
        "        expected_y = funct(x)\n",
        "        if expected_y > y:\n",
        "            inside += 1\n",
        "\n",
        "    return inside / size * y_max * (sup - inf)"
      ],
      "outputs": [],
      "execution_count": null
    },
    {
      "cell_type": "code",
      "metadata": {
        "jukit_cell_id": "cDJUexvCuk"
      },
      "source": [
        "def second_method(inf: float, sup: float, funct, size: int):\n",
        "    mutiplier = (sup - inf) / size\n",
        "    x = np.random.uniform(inf, sup, size)\n",
        "    y = funct(x)\n",
        "    return mutiplier * np.sum(y)"
      ],
      "outputs": [],
      "execution_count": null
    },
    {
      "cell_type": "code",
      "metadata": {
        "jukit_cell_id": "i8XSZc97EB"
      },
      "source": [
        "def choose_method(inf: float, sup: float, funct, size: int, y):\n",
        "    if y is not None:\n",
        "        return first_method(inf, sup, funct, size, y)\n",
        "    else:\n",
        "        return second_method(inf, sup, funct, size)"
      ],
      "outputs": [],
      "execution_count": null
    },
    {
      "cell_type": "code",
      "metadata": {
        "jukit_cell_id": "mNvG3mxrvl"
      },
      "source": [
        "def plot_hist_iterate_method(\n",
        "    iterations: int, inf: float, sup: float, funct, size: int, y\n",
        "):\n",
        "    data: np.ndarray = np.zeros(iterations)\n",
        "    for i in range(iterations):\n",
        "        data[i] = choose_method(inf, sup, funct, size, y)\n",
        "    plt.hist(data)\n",
        "    mean = data.mean()\n",
        "    print(f\"M\u00e9dia: {mean}\")\n",
        "    return calculo_erro(data, mean)"
      ],
      "outputs": [],
      "execution_count": null
    },
    {
      "cell_type": "code",
      "metadata": {
        "jukit_cell_id": "to9NuhwRB6"
      },
      "source": [
        "def plot_all(inf: float, sup: float, funct: Callable, y: float | None):\n",
        "    for size in SIZES:\n",
        "        errors.append(plot_hist_iterate_method(ITERATIONS, inf, sup, funct, size, y))\n",
        "        errors.append(plot_hist_iterate_method(ITERATIONS, inf, sup, funct, size, None))\n",
        "        plt.show()"
      ],
      "outputs": [],
      "execution_count": null
    },
    {
      "cell_type": "markdown",
      "metadata": {
        "jukit_cell_id": "SY2pi1SESw"
      },
      "source": [
        "# Fun\u00e7\u00e3o 1"
      ]
    },
    {
      "cell_type": "code",
      "metadata": {
        "jukit_cell_id": "EEzd0Fa9KD"
      },
      "source": [
        "INF_1 = 0\n",
        "SUP_1 = 1\n",
        "Y_MAX_1 = 1"
      ],
      "outputs": [],
      "execution_count": null
    },
    {
      "cell_type": "code",
      "metadata": {
        "jukit_cell_id": "jBAPrBcCXh"
      },
      "source": [
        "def plot_1():\n",
        "    x = np.linspace(INF_1, SUP_1, 100)\n",
        "    y = 1 - x**2\n",
        "    plt.title(\"$1 - x^2$\")\n",
        "    plt.plot(x, y)\n",
        "\n",
        "\n",
        "plot_1()"
      ],
      "outputs": [],
      "execution_count": null
    },
    {
      "cell_type": "code",
      "metadata": {
        "jukit_cell_id": "cREtW1Tuma"
      },
      "source": [
        "def funct_1(x: float) -> float:\n",
        "    return 1 - x**2"
      ],
      "outputs": [],
      "execution_count": null
    },
    {
      "cell_type": "code",
      "metadata": {
        "jukit_cell_id": "ap1uyUoh2a"
      },
      "source": [
        "plot_all(INF_1, SUP_1, funct_1, Y_MAX_1)"
      ],
      "outputs": [],
      "execution_count": null
    },
    {
      "cell_type": "markdown",
      "metadata": {
        "jukit_cell_id": "HsiF964HAC"
      },
      "source": [
        "# Fun\u00e7\u00e3o 2"
      ]
    },
    {
      "cell_type": "code",
      "metadata": {
        "jukit_cell_id": "iTySn7cLeM"
      },
      "source": [
        "INF_2 = 0\n",
        "SUP_2 = 1\n",
        "Y_MAX_2 = 3"
      ],
      "outputs": [],
      "execution_count": null
    },
    {
      "cell_type": "code",
      "metadata": {
        "jukit_cell_id": "qZ2Opt7df2"
      },
      "source": [
        "def plot_2():\n",
        "    x = np.linspace(INF_2, SUP_2, 100)\n",
        "    y = np.e**x\n",
        "    plt.title(\"$e^x$\")\n",
        "    plt.plot(x, y)\n",
        "\n",
        "\n",
        "plot_2()"
      ],
      "outputs": [],
      "execution_count": null
    },
    {
      "cell_type": "code",
      "metadata": {
        "jukit_cell_id": "2GOVvLSQRa"
      },
      "source": [
        "def funct_2(x: float) -> float:\n",
        "    return np.e**x"
      ],
      "outputs": [],
      "execution_count": null
    },
    {
      "cell_type": "code",
      "metadata": {
        "jukit_cell_id": "jLyFt484BR"
      },
      "source": [
        "plot_all(INF_2, SUP_2, funct_2, Y_MAX_2)"
      ],
      "outputs": [],
      "execution_count": null
    },
    {
      "cell_type": "markdown",
      "metadata": {
        "jukit_cell_id": "5S7mj5cET5"
      },
      "source": [
        "# Fun\u00e7\u00e3o 3"
      ]
    },
    {
      "cell_type": "code",
      "metadata": {
        "jukit_cell_id": "ftlodFzdN2"
      },
      "source": [
        "INF_3 = 0\n",
        "SUP_3 = np.pi\n",
        "Y_MAX_3 = 1"
      ],
      "outputs": [],
      "execution_count": null
    },
    {
      "cell_type": "code",
      "metadata": {
        "jukit_cell_id": "A0GC30Ab6c"
      },
      "source": [
        "def plot_3():\n",
        "    x = np.linspace(INF_3, SUP_3, 100)\n",
        "    y = np.sin(x) ** 2\n",
        "    plt.title(r\"$\\sin(x)^2$\")\n",
        "    plt.plot(x, y)\n",
        "\n",
        "\n",
        "plot_3()"
      ],
      "outputs": [
        {
          "data": {
            "image/png": "[encoded data removed]"
          },
          "metadata": {},
          "output_type": "display_data"
        },
        {
          "output_type": "stream",
          "name": "stdout",
          "text": "\n"
        }
      ],
      "execution_count": 1
    },
    {
      "cell_type": "code",
      "metadata": {
        "jukit_cell_id": "yMAiVqu0zm"
      },
      "source": [
        "def funct_3(x: float) -> float:\n",
        "    return np.sin(x) ** 2"
      ],
      "outputs": [],
      "execution_count": null
    },
    {
      "cell_type": "code",
      "metadata": {
        "jukit_cell_id": "juhIGzR5e2"
      },
      "source": [
        "plot_all(INF_3, SUP_3, funct_3, Y_MAX_3)"
      ],
      "outputs": [],
      "execution_count": null
    },
    {
      "cell_type": "markdown",
      "metadata": {
        "jukit_cell_id": "ZfJUYuVduk"
      },
      "source": [
        "Em primeiro lugar, como esperado pelo Teorema do Limite Central, a distribui\u00e7\u00e3o\n",
        "dos valores gerados nos histogramas se aproxima de uma distribui\u00e7\u00e3o normal,\n",
        "com a m\u00e9dia muito pr\u00f3xima do valor anal\u00edtico. Al\u00e9m disso, em todos os casos, o\n",
        "m\u00e9todo 2 apresentou um conjunto de resultados cujos valores possuem um desvio\n",
        "padr\u00e3o menor do que os gerados pelo m\u00e9todo 1, o que nos leva a inferir que ele\n",
        "teve um desempenho mais promissor na estimativa das integrais. Entretanto,\n",
        "devemos tentar entender o porque disso.\n",
        "\n",
        "As fun\u00e7\u00f5es testadas com o m\u00e9todo 1, de amostragem de pontos abaixo da curva,\n",
        "possuem \"uma camada de aleatoriedade maior\" do que as testadas com o m\u00e9todo 2,\n",
        "uma vez que devemos gerar pontos aleat\u00f3rios, sendo que estes possuem\n",
        "coordenadas x e y. O m\u00e9todo de Monte Carlo, utilizando o valor m\u00e9dio, seleciona\n",
        "aleatoriamente apenas o valor de x, tornando sua distribui\u00e7\u00e3o de valores menos\n",
        "incerta. Assim, o desvio padr\u00e3o do segundo m\u00e9todo se mostra menor. "
      ]
    },
    {
      "cell_type": "code",
      "metadata": {
        "jukit_cell_id": "EqX5Dpr7kM"
      },
      "source": [
        "errors"
      ],
      "outputs": [],
      "execution_count": null
    },
    {
      "cell_type": "markdown",
      "metadata": {
        "jukit_cell_id": "7JYWek0hFb"
      },
      "source": [
        "## Erros\n",
        "\n",
        "O c\u00e1lculo dos erros estimativos seguiram o que era esperado: quanto maior o\n",
        "n\u00famero de valores gerados para estimar a integral, menor ser\u00e1 a diferen\u00e7a entre\n",
        "a estimativa e o valor anal\u00edtico. \u00c9 importante salientar que os erros foram\n",
        "calculados considerando que n\u00e3o h\u00e1 correla\u00e7\u00e3o entre os valores gerados, ou\n",
        "seja, assumimos que o gerador de n\u00fameros aleat\u00f3rios \u00e9 perfeito. Na pr\u00e1tica esse\n",
        "pode n\u00e3o ser o caso, mas o gerador de n\u00fameros aleat\u00f3rio da biblioteca Numpy\n",
        "garante um alto n\u00edvel de independ\u00eancia entre os n\u00fameros gerados."
      ]
    },
    {
      "cell_type": "markdown",
      "metadata": {
        "jukit_cell_id": "RJAGPYrv7f"
      },
      "source": [
        "# Exerc\u00edcio 4"
      ]
    },
    {
      "cell_type": "markdown",
      "metadata": {
        "jukit_cell_id": "kuYz30wLFK"
      },
      "source": [
        "Neste exerc\u00edcio utilizaremos o m\u00e9todo 2 de Monte Carlo para aproximar o valor\n",
        "de um integral em 9 dimens\u00f5es"
      ]
    },
    {
      "cell_type": "code",
      "metadata": {
        "jukit_cell_id": "oT2wFQ1tMy"
      },
      "source": [
        "def funct_4(x: list):\n",
        "    return 1 / ((x[0] + x[1]) * x[2] + (x[3] + x[4]) * x[5] + (x[6] + x[7]) * x[8])"
      ],
      "outputs": [],
      "execution_count": null
    },
    {
      "cell_type": "markdown",
      "metadata": {
        "jukit_cell_id": "ABrpcT46Wo"
      },
      "source": [
        "Criando fun\u00e7\u00e3o que generaliza a aplica\u00e7\u00e3o do m\u00e9todo 2 ( MonteCarlo ) para esse caso"
      ]
    },
    {
      "cell_type": "code",
      "metadata": {
        "jukit_cell_id": "fpFwFhLwoE"
      },
      "source": [
        "def MonteCarlo_9d(N, funct: Callable):\n",
        "    acumulador = 0\n",
        "    for _ in range(N):\n",
        "        acumulador = acumulador + funct(np.random.uniform(0, 1, 9))\n",
        "    return acumulador / N"
      ],
      "outputs": [],
      "execution_count": null
    },
    {
      "cell_type": "markdown",
      "metadata": {
        "jukit_cell_id": "ij1f4jB38d"
      },
      "source": [
        "Foram escolhidas 1000 itera\u00e7\u00f5es do algoritmo, uma vez que um n\u00famero maior n\u00e3o\n",
        "melhorou a aproxima\u00e7\u00e3o."
      ]
    },
    {
      "cell_type": "code",
      "metadata": {
        "jukit_cell_id": "T0UeeKAQ9n"
      },
      "source": [
        "ITERATIONS_4 = 1000\n",
        "SIZES_4 = [10**2, 10**3, 10**4]"
      ],
      "outputs": [],
      "execution_count": null
    },
    {
      "cell_type": "code",
      "metadata": {
        "jukit_cell_id": "id5PZloQXB"
      },
      "source": [
        "def carlao(size: float):\n",
        "    amostra = np.zeros(ITERATIONS_4)\n",
        "    for i in range(ITERATIONS_4):\n",
        "        amostra[i] = MonteCarlo_9d(size, funct_4)\n",
        "    return amostra.mean(), amostra"
      ],
      "outputs": [],
      "execution_count": null
    },
    {
      "cell_type": "code",
      "metadata": {
        "jukit_cell_id": "GMMjPcjxWm"
      },
      "source": [
        "for size in SIZES_4:\n",
        "    media, amostra = carlao(size)\n",
        "    plt.hist(amostra)\n",
        "    plt.show()\n",
        "    print(media)\n",
        "    print(calculo_erro(amostra, media))"
      ],
      "outputs": [],
      "execution_count": null
    },
    {
      "cell_type": "markdown",
      "metadata": {
        "jukit_cell_id": "CcNFvmrZb5"
      },
      "source": [
        "O c\u00e1lculo da integral da fun\u00e7\u00e3o de 9 vari\u00e1veis se comportou como esperado, dado\n",
        "que com o aumento no tamanho da amostra para fazer essa aproxima\u00e7\u00e3o, o desvio\n",
        "padr\u00e3o diminuiu. Al\u00e9m disso, \u00e9 poss\u00edvel notar que a aproxima\u00e7\u00e3o utilizando o\n",
        "m\u00e9todo 2 apresenta um desempenho melhor do que o esperado, dado que mesmo com o\n",
        "aumento de n\u00fameros aleat\u00f3rios criados, o tempo de execu\u00e7\u00e3o n\u00e3o aumentou tanto."
      ]
    }
  ],
  "metadata": {
    "anaconda-cloud": {},
    "kernelspec": {
      "display_name": "python",
      "language": "python",
      "name": "python3"
    }
  },
  "nbformat": 4,
  "nbformat_minor": 4
}