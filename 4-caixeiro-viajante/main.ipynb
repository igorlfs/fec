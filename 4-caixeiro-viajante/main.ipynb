{
  "cells": [
    {
      "cell_type": "code",
      "metadata": {
        "jukit_cell_id": "jFFsSsF762"
      },
      "source": [
        "\"\"\"Atividade 4: Caixeiro Viajante.\"\"\"\n",
        "from typing import cast\n",
        "\n",
        "import matplotlib.pyplot as plt\n",
        "import mplcatppuccin  # noqa\n",
        "import mplcatppuccin.palette as cat\n",
        "import numpy as np\n",
        "from numba import jit\n",
        "from numpy.typing import NDArray"
      ],
      "outputs": [],
      "execution_count": null
    },
    {
      "cell_type": "code",
      "metadata": {
        "jukit_cell_id": "5bIZbFwebX"
      },
      "source": [
        "# Define as posi\u00e7\u00f5es aleat\u00f3rias das cidades\n",
        "rng = np.random.default_rng(seed=42)"
      ],
      "outputs": [],
      "execution_count": null
    },
    {
      "cell_type": "code",
      "metadata": {
        "jukit_cell_id": "hpWZ5w2W65"
      },
      "source": [
        "@jit(nopython=True)\n",
        "def calculate_distance(\n",
        "    num: np.int64, x: NDArray[np.float64], y: NDArray[np.float64]\n",
        ") -> NDArray[np.float64]:\n",
        "    \"\"\"Define a distancia entre duas cidades quaisquer.\"\"\"\n",
        "    distance = np.zeros((num, num), dtype=np.float64)\n",
        "    for i in range(num):\n",
        "        for j in range(num):\n",
        "            distance[i, j] = np.sqrt(\n",
        "                np.power((x[i] - x[j]), 2) + np.power((y[i] - y[j]), 2)\n",
        "            )\n",
        "    return distance"
      ],
      "outputs": [],
      "execution_count": null
    },
    {
      "cell_type": "code",
      "metadata": {
        "jukit_cell_id": "Vv5OsnyhvZ"
      },
      "source": [
        "@jit(nopython=True)\n",
        "def calculate_cost(\n",
        "    num: np.int64, path: NDArray[np.int64], dist: NDArray[np.float64]\n",
        ") -> float:\n",
        "    \"\"\"Calcula a distancia total percorrida pela caminhada.\"\"\"\n",
        "    cost = np.zeros(1, dtype=np.float64)\n",
        "    for i in range(num):\n",
        "        cost += dist[path[i % num], path[(i + 1) % num]]\n",
        "    return cost[0]"
      ],
      "outputs": [],
      "execution_count": null
    },
    {
      "cell_type": "code",
      "metadata": {
        "jukit_cell_id": "CR1bHWdpUs"
      },
      "source": [
        "@jit(nopython=True)\n",
        "def calculate_new_path(\n",
        "    num: np.int64, path: NDArray[np.int64]\n",
        ") -> tuple[NDArray[np.int64], int, int]:\n",
        "    \"\"\"Calcula o novo caminho, trocando dois \u00edndices.\"\"\"\n",
        "    # define uma nova caminhada\n",
        "    newpath = np.zeros(num, dtype=np.int64)\n",
        "\n",
        "    indexes: NDArray[np.int64] = np.random.choice(np.arange(num), 2, replace=False)\n",
        "    # o \u00edndice incial deve ser o menor, ent\u00e3o ordenamos\n",
        "    indexes.sort()\n",
        "    ini: int = indexes[0]\n",
        "    fin: int = indexes[1]\n",
        "\n",
        "    # inverte o sentido em que percorre o caminho entre os indices escolhidos\n",
        "    for k in range(num):\n",
        "        if k >= ini and k <= fin:\n",
        "            newpath[k] = path[fin - k + ini]\n",
        "        else:\n",
        "            newpath[k] = path[k]\n",
        "\n",
        "    return newpath, ini, fin"
      ],
      "outputs": [],
      "execution_count": null
    },
    {
      "cell_type": "code",
      "metadata": {
        "jukit_cell_id": "rSMST6bRwb"
      },
      "source": [
        "@jit(nopython=True)\n",
        "def mc_step(\n",
        "    num: np.int64,\n",
        "    beta: np.float64,\n",
        "    energy,\n",
        "    path: NDArray[np.int64],\n",
        "    best_e: float,\n",
        "    best_p: NDArray[np.int64],\n",
        "    dist: NDArray[np.float64],\n",
        "):\n",
        "    \"\"\"Rode um passo de Monte Carlo.\"\"\"\n",
        "    # realiza um passo de Monte Carlo\n",
        "    new_path = np.zeros(num, dtype=np.int64)\n",
        "\n",
        "    new_path, ini, fin = calculate_new_path(num, path)  # propoe um novo caminho\n",
        "\n",
        "    # determina a diferen\u00e7a de energia\n",
        "    left = ini - 1  # cidade anterior a inicial\n",
        "    if left < 0:\n",
        "        left = num - 1  # condicao de contorno\n",
        "    right = fin + 1  # cidade apos a final\n",
        "    if right > num - 1:\n",
        "        right = 0  # condicao de contorno\n",
        "    delta = (\n",
        "        -dist[path[left], path[ini]]\n",
        "        - dist[path[right], path[fin]]\n",
        "        + dist[new_path[left], new_path[ini]]\n",
        "        + dist[new_path[right], new_path[fin]]\n",
        "    )\n",
        "\n",
        "    # Estrat\u00e9gia do Rio\n",
        "    # if (x[new_path[left]] < RIVER and x[new_path[right]] >= RIVER) or (\n",
        "    #     x[new_path[left]] >= RIVER and x[new_path[right]] < RIVER\n",
        "    # ):\n",
        "    #     delta *= RIVER_COST\n",
        "\n",
        "    if delta < 0:  # aplica o criterio de Metropolis\n",
        "        energy += delta\n",
        "        path = new_path\n",
        "        if energy < best_e:  # guarda o melhor caminho gerado at\u00e9 o momento\n",
        "            best_e = energy\n",
        "            best_p = path\n",
        "    # aplica o criterio de Metropolis\n",
        "    elif np.random.random() < np.exp(-beta * delta):\n",
        "        energy += delta\n",
        "        path = new_path\n",
        "\n",
        "    return energy, path, best_e, best_p"
      ],
      "outputs": [],
      "execution_count": null
    },
    {
      "cell_type": "code",
      "metadata": {
        "jukit_cell_id": "M8kUzJF4dp"
      },
      "source": [
        "def generate_graph(num: np.int64) -> tuple[NDArray, NDArray, NDArray]:\n",
        "    \"\"\"Gere um novo grafo com `num` arestas.\"\"\"\n",
        "    x = rng.random(num)\n",
        "    y = rng.random(num)\n",
        "\n",
        "    # define o caminho que liga as cidades (inicialmente a sequencia como foi criada)\n",
        "    path = np.zeros(num, dtype=np.int64)\n",
        "    for i in range(num):\n",
        "        path[i] = i\n",
        "\n",
        "    return x, y, path"
      ],
      "outputs": [],
      "execution_count": null
    },
    {
      "cell_type": "code",
      "metadata": {
        "jukit_cell_id": "PmDkupE1CQ"
      },
      "source": [
        "def plot_path(x: NDArray, y: NDArray, path: NDArray, cost: float):\n",
        "    \"\"\"Imprima o caminho encontrado.\"\"\"\n",
        "    plt.plot(x, y, \"o\", color=blue)\n",
        "    plt.title(f\"Comprimento: {cost}\")\n",
        "    for i in range(NUM_OF_CITIES):\n",
        "        plt.plot(\n",
        "            [x[path[i]], x[path[(i + 1) % NUM_OF_CITIES]]],\n",
        "            [y[path[i]], y[path[(i + 1) % NUM_OF_CITIES]]],\n",
        "            color=blue,\n",
        "        )\n",
        "    plt.show()"
      ],
      "outputs": [],
      "execution_count": null
    },
    {
      "cell_type": "code",
      "metadata": {
        "jukit_cell_id": "EMBIcvI8Kk"
      },
      "source": [
        "def plot_metrics(temperatures: NDArray, path_cost: NDArray):\n",
        "    \"\"\"Imprima a evolu\u00e7\u00e3o das temperaturas e do custo do caminho.\"\"\"\n",
        "    _, ax = plt.subplots()\n",
        "    ax = cast(plt.Axes, ax)\n",
        "    plt.title(f\"N: {NUM_OF_CITIES} $T_0$: {T_INIT} base: {MULTIPLIER}\")\n",
        "\n",
        "    ax2 = ax.twinx()\n",
        "    ax.plot(path_cost, color=blue)\n",
        "    ax2.plot(temperatures, color=red)\n",
        "\n",
        "    ax.set_xlabel(\"Passos de Monte Carlo\")\n",
        "    ax.set_ylabel(\"Custo\", color=blue)\n",
        "    ax2.set_ylabel(\"Temperaturas\", color=red)"
      ],
      "outputs": [],
      "execution_count": null
    },
    {
      "cell_type": "code",
      "metadata": {
        "jukit_cell_id": "XFEn7uQvps"
      },
      "source": [
        "plt.style.use(\"mocha\")"
      ],
      "outputs": [],
      "execution_count": null
    },
    {
      "cell_type": "code",
      "metadata": {
        "jukit_cell_id": "qj2Zna6kbj"
      },
      "source": [
        "blue = cat.load_color(\"mocha\", \"blue\")\n",
        "red = cat.load_color(\"mocha\", \"red\")"
      ],
      "outputs": [],
      "execution_count": null
    },
    {
      "cell_type": "code",
      "metadata": {
        "jukit_cell_id": "UzHUFr8dyQ"
      },
      "source": [
        "NUM_OF_CITIES = np.int64(150)\n",
        "MC_STEPS = 30000\n",
        "T_INIT = 2.0 * NUM_OF_CITIES\n",
        "MULTIPLIER = 0.99999"
      ],
      "outputs": [],
      "execution_count": null
    },
    {
      "cell_type": "code",
      "metadata": {
        "jukit_cell_id": "WwBHAgXrK2"
      },
      "source": [
        "x, y, path = generate_graph(NUM_OF_CITIES)"
      ],
      "outputs": [],
      "execution_count": null
    },
    {
      "cell_type": "code",
      "metadata": {
        "jukit_cell_id": "nTysyxQZ3s"
      },
      "source": [
        "path_cost = np.zeros(MC_STEPS, dtype=np.float64)\n",
        "temperatures = np.zeros(MC_STEPS, dtype=np.float64)\n",
        "beta = np.float64(T_INIT)\n",
        "dist = calculate_distance(NUM_OF_CITIES, x, y)\n",
        "cost = calculate_cost(NUM_OF_CITIES, path, dist)\n",
        "best_e = cost\n",
        "best_p = path\n",
        "\n",
        "for i in range(MC_STEPS):\n",
        "    cost, path, best_e, best_p = mc_step(\n",
        "        NUM_OF_CITIES, beta, cost, path, best_e, best_p, dist\n",
        "    )\n",
        "    path_cost[i] = best_e\n",
        "    temperatures[i] = beta\n",
        "    beta = beta * MULTIPLIER"
      ],
      "outputs": [],
      "execution_count": null
    },
    {
      "cell_type": "code",
      "metadata": {
        "jukit_cell_id": "CcDL0TMWst"
      },
      "source": [
        "plot_path(x, y, best_p, best_e)\n",
        "plot_metrics(temperatures, path_cost)"
      ],
      "outputs": [],
      "execution_count": null
    },
    {
      "cell_type": "markdown",
      "metadata": {
        "jukit_cell_id": "6Y9DnasT0B"
      },
      "source": [
        "## An\u00e1lise\n",
        "\n",
        "O m\u00e9todo de simulated annealing \u00e9 razo\u00e1vel, basta fazer o tuning correto dos par\u00e2metros, o que pode exigir bastante tempo. O tempo gasto \u00e9 bom, para a aproxima\u00e7\u00e3o que \u00e9 entregue."
      ]
    },
    {
      "cell_type": "code",
      "metadata": {
        "jukit_cell_id": "zl6jNTwcRe"
      },
      "source": [
        "filename = input()\n",
        "file = np.loadtxt(filename)\n",
        "x, y = file[0], file[1]\n",
        "path = np.zeros(len(x), dtype=np.int64)\n",
        "for i in range(len(x)):\n",
        "    path[i] = i"
      ],
      "outputs": [],
      "execution_count": null
    },
    {
      "cell_type": "code",
      "metadata": {
        "jukit_cell_id": "yIfhPQWT32"
      },
      "source": [],
      "outputs": [],
      "execution_count": null
    }
  ],
  "metadata": {
    "anaconda-cloud": {},
    "kernelspec": {
      "display_name": "python",
      "language": "python",
      "name": "python3"
    }
  },
  "nbformat": 4,
  "nbformat_minor": 4
}